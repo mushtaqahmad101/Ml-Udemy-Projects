{
 "cells": [
  {
   "cell_type": "markdown",
   "metadata": {
    "id": "9xh9s35oomwU"
   },
   "source": [
    " **Environment Setup**"
   ]
  },
  {
   "cell_type": "code",
   "execution_count": 11,
   "metadata": {
    "id": "u3-X8Zqll4LH"
   },
   "outputs": [
    {
     "name": "stderr",
     "output_type": "stream",
     "text": [
      "The system cannot find the path specified.\n",
      "'wget' is not recognized as an internal or external command,\n",
      "operable program or batch file.\n",
      "tar: Error opening archive: Failed to open 'spark-3.1.1-bin-hadoop3.2.tgz'\n"
     ]
    }
   ],
   "source": [
    "!apt-get install openjdk-8-jdk-headless -qq > /dev/null\n",
    "!wget -q http://archive.apache.org/dist/spark/spark-3.1.1/spark-3.1.1-bin-hadoop3.2.tgz\n",
    "!tar xf spark-3.1.1-bin-hadoop3.2.tgz\n",
    "!pip install -q findspark"
   ]
  },
  {
   "cell_type": "code",
   "execution_count": 12,
   "metadata": {
    "id": "s3syDK7MoEhk"
   },
   "outputs": [],
   "source": [
    "import os\n",
    "os.environ[\"JAVA_HOME\"] = \"/usr/lib/jvm/java-8-openjdk-amd64\"\n",
    "os.environ[\"SPARK_HOME\"] = \"/content/spark-3.1.1-bin-hadoop3.2\""
   ]
  },
  {
   "cell_type": "code",
   "execution_count": 13,
   "metadata": {
    "id": "A7gY3YzzoHy1"
   },
   "outputs": [
    {
     "ename": "Exception",
     "evalue": "Unable to find py4j in /content/spark-3.1.1-bin-hadoop3.2\\python, your SPARK_HOME may not be configured correctly",
     "output_type": "error",
     "traceback": [
      "\u001b[1;31m---------------------------------------------------------------------------\u001b[0m",
      "\u001b[1;31mIndexError\u001b[0m                                Traceback (most recent call last)",
      "File \u001b[1;32m~\\anaconda3\\Lib\\site-packages\\findspark.py:159\u001b[0m, in \u001b[0;36minit\u001b[1;34m(spark_home, python_path, edit_rc, edit_profile)\u001b[0m\n\u001b[0;32m    158\u001b[0m \u001b[38;5;28;01mtry\u001b[39;00m:\n\u001b[1;32m--> 159\u001b[0m     py4j \u001b[38;5;241m=\u001b[39m glob(os\u001b[38;5;241m.\u001b[39mpath\u001b[38;5;241m.\u001b[39mjoin(spark_python, \u001b[38;5;124m\"\u001b[39m\u001b[38;5;124mlib\u001b[39m\u001b[38;5;124m\"\u001b[39m, \u001b[38;5;124m\"\u001b[39m\u001b[38;5;124mpy4j-*.zip\u001b[39m\u001b[38;5;124m\"\u001b[39m))[\u001b[38;5;241m0\u001b[39m]\n\u001b[0;32m    160\u001b[0m \u001b[38;5;28;01mexcept\u001b[39;00m \u001b[38;5;167;01mIndexError\u001b[39;00m:\n",
      "\u001b[1;31mIndexError\u001b[0m: list index out of range",
      "\nDuring handling of the above exception, another exception occurred:\n",
      "\u001b[1;31mException\u001b[0m                                 Traceback (most recent call last)",
      "Cell \u001b[1;32mIn[13], line 2\u001b[0m\n\u001b[0;32m      1\u001b[0m \u001b[38;5;28;01mimport\u001b[39;00m \u001b[38;5;21;01mfindspark\u001b[39;00m\n\u001b[1;32m----> 2\u001b[0m findspark\u001b[38;5;241m.\u001b[39minit()\n",
      "File \u001b[1;32m~\\anaconda3\\Lib\\site-packages\\findspark.py:161\u001b[0m, in \u001b[0;36minit\u001b[1;34m(spark_home, python_path, edit_rc, edit_profile)\u001b[0m\n\u001b[0;32m    159\u001b[0m         py4j \u001b[38;5;241m=\u001b[39m glob(os\u001b[38;5;241m.\u001b[39mpath\u001b[38;5;241m.\u001b[39mjoin(spark_python, \u001b[38;5;124m\"\u001b[39m\u001b[38;5;124mlib\u001b[39m\u001b[38;5;124m\"\u001b[39m, \u001b[38;5;124m\"\u001b[39m\u001b[38;5;124mpy4j-*.zip\u001b[39m\u001b[38;5;124m\"\u001b[39m))[\u001b[38;5;241m0\u001b[39m]\n\u001b[0;32m    160\u001b[0m     \u001b[38;5;28;01mexcept\u001b[39;00m \u001b[38;5;167;01mIndexError\u001b[39;00m:\n\u001b[1;32m--> 161\u001b[0m         \u001b[38;5;28;01mraise\u001b[39;00m \u001b[38;5;167;01mException\u001b[39;00m(\n\u001b[0;32m    162\u001b[0m             \u001b[38;5;124m\"\u001b[39m\u001b[38;5;124mUnable to find py4j in \u001b[39m\u001b[38;5;132;01m{}\u001b[39;00m\u001b[38;5;124m, your SPARK_HOME may not be configured correctly\u001b[39m\u001b[38;5;124m\"\u001b[39m\u001b[38;5;241m.\u001b[39mformat(\n\u001b[0;32m    163\u001b[0m                 spark_python\n\u001b[0;32m    164\u001b[0m             )\n\u001b[0;32m    165\u001b[0m         )\n\u001b[0;32m    166\u001b[0m     sys\u001b[38;5;241m.\u001b[39mpath[:\u001b[38;5;241m0\u001b[39m] \u001b[38;5;241m=\u001b[39m sys_path \u001b[38;5;241m=\u001b[39m [spark_python, py4j]\n\u001b[0;32m    167\u001b[0m \u001b[38;5;28;01melse\u001b[39;00m:\n\u001b[0;32m    168\u001b[0m     \u001b[38;5;66;03m# already imported, no need to patch sys.path\u001b[39;00m\n",
      "\u001b[1;31mException\u001b[0m: Unable to find py4j in /content/spark-3.1.1-bin-hadoop3.2\\python, your SPARK_HOME may not be configured correctly"
     ]
    }
   ],
   "source": [
    "import findspark\n",
    "findspark.init()"
   ]
  },
  {
   "cell_type": "code",
   "execution_count": 7,
   "metadata": {
    "id": "YaYqBDBVhzGz"
   },
   "outputs": [
    {
     "ename": "ModuleNotFoundError",
     "evalue": "No module named 'pyspark'",
     "output_type": "error",
     "traceback": [
      "\u001b[1;31m---------------------------------------------------------------------------\u001b[0m",
      "\u001b[1;31mModuleNotFoundError\u001b[0m                       Traceback (most recent call last)",
      "Cell \u001b[1;32mIn[7], line 1\u001b[0m\n\u001b[1;32m----> 1\u001b[0m \u001b[38;5;28;01mfrom\u001b[39;00m \u001b[38;5;21;01mpyspark\u001b[39;00m \u001b[38;5;28;01mimport\u001b[39;00m SparkContext, SparkConf\n\u001b[0;32m      2\u001b[0m spark_conf\u001b[38;5;241m=\u001b[39mSparkConf()\u001b[38;5;241m.\u001b[39msetMaster(\u001b[38;5;124m\"\u001b[39m\u001b[38;5;124mlocal[*]\u001b[39m\u001b[38;5;124m\"\u001b[39m)\u001b[38;5;241m.\u001b[39msetAppName(\u001b[38;5;124m\"\u001b[39m\u001b[38;5;124massignment\u001b[39m\u001b[38;5;124m\"\u001b[39m)\n\u001b[0;32m      3\u001b[0m sc\u001b[38;5;241m=\u001b[39mSparkContext(conf\u001b[38;5;241m=\u001b[39mspark_conf)\n",
      "\u001b[1;31mModuleNotFoundError\u001b[0m: No module named 'pyspark'"
     ]
    }
   ],
   "source": [
    "from pyspark import SparkContext, SparkConf\n",
    "spark_conf=SparkConf().setMaster(\"local[*]\").setAppName(\"assignment\")\n",
    "sc=SparkContext(conf=spark_conf)"
   ]
  },
  {
   "cell_type": "code",
   "execution_count": 9,
   "metadata": {
    "id": "KOvGgxXDoL0W"
   },
   "outputs": [
    {
     "ename": "NameError",
     "evalue": "name 'sc' is not defined",
     "output_type": "error",
     "traceback": [
      "\u001b[1;31m---------------------------------------------------------------------------\u001b[0m",
      "\u001b[1;31mNameError\u001b[0m                                 Traceback (most recent call last)",
      "Cell \u001b[1;32mIn[9], line 3\u001b[0m\n\u001b[0;32m      1\u001b[0m \u001b[38;5;66;03m# Reading text file\u001b[39;00m\n\u001b[0;32m      2\u001b[0m path\u001b[38;5;241m=\u001b[39m\u001b[38;5;124m\"\u001b[39m\u001b[38;5;124m/content/data.txt\u001b[39m\u001b[38;5;124m\"\u001b[39m\n\u001b[1;32m----> 3\u001b[0m rdd\u001b[38;5;241m=\u001b[39msc\u001b[38;5;241m.\u001b[39mtextFile(path)\n",
      "\u001b[1;31mNameError\u001b[0m: name 'sc' is not defined"
     ]
    }
   ],
   "source": [
    "# Reading text file\n",
    "path=\"/content/data.txt\"\n",
    "rdd=sc.textFile(path)"
   ]
  },
  {
   "cell_type": "code",
   "execution_count": 10,
   "metadata": {
    "colab": {
     "base_uri": "https://localhost:8080/"
    },
    "id": "_bU6tPmloVfw",
    "outputId": "49d0ba0e-e512-445e-8529-7dcb1ec0af18"
   },
   "outputs": [
    {
     "ename": "NameError",
     "evalue": "name 'rdd' is not defined",
     "output_type": "error",
     "traceback": [
      "\u001b[1;31m---------------------------------------------------------------------------\u001b[0m",
      "\u001b[1;31mNameError\u001b[0m                                 Traceback (most recent call last)",
      "Cell \u001b[1;32mIn[10], line 1\u001b[0m\n\u001b[1;32m----> 1\u001b[0m rdd\u001b[38;5;241m.\u001b[39mcollect()\n",
      "\u001b[1;31mNameError\u001b[0m: name 'rdd' is not defined"
     ]
    }
   ],
   "source": [
    "rdd.collect()"
   ]
  },
  {
   "cell_type": "markdown",
   "metadata": {
    "id": "g0HT6LfRqaoB"
   },
   "source": [
    "# Q1: Select the records of the students from lahore campus.Display few records and print the count of the students from Lahore campus\n",
    "**Answer**"
   ]
  },
  {
   "cell_type": "code",
   "execution_count": 10,
   "metadata": {
    "id": "OW57HKApo1ym"
   },
   "outputs": [],
   "source": [
    "rdd1 = rdd.filter(lambda x:x[0]=='L') # The roll number of Lahore students starts with L"
   ]
  },
  {
   "cell_type": "code",
   "execution_count": 11,
   "metadata": {
    "colab": {
     "base_uri": "https://localhost:8080/"
    },
    "id": "5G3Vpy2krZ8K",
    "outputId": "2a910d63-af1d-443a-88e6-c8ee4715d238"
   },
   "outputs": [
    {
     "data": {
      "text/plain": [
       "['L22-2100 DB D',\n",
       " 'L21-1705 OS A',\n",
       " 'L22-2101 DB D',\n",
       " 'L21-1601 SE F',\n",
       " 'L21-1702 SE B',\n",
       " 'L20-1705 DB A',\n",
       " 'L21-1755 DB A',\n",
       " 'L22-1705 OS B',\n",
       " 'L19-1895 OS B']"
      ]
     },
     "execution_count": 11,
     "metadata": {},
     "output_type": "execute_result"
    }
   ],
   "source": [
    "rdd1.collect()"
   ]
  },
  {
   "cell_type": "code",
   "execution_count": 12,
   "metadata": {
    "colab": {
     "base_uri": "https://localhost:8080/"
    },
    "id": "qszH92NLqtNe",
    "outputId": "73de931a-b1e6-46ed-dde9-74000a50cea1"
   },
   "outputs": [
    {
     "data": {
      "text/plain": [
       "['L22-2100 DB D', 'L21-1705 OS A', 'L22-2101 DB D']"
      ]
     },
     "execution_count": 12,
     "metadata": {},
     "output_type": "execute_result"
    }
   ],
   "source": [
    "# Display only 3\n",
    "rdd1.take(3)"
   ]
  },
  {
   "cell_type": "code",
   "execution_count": 13,
   "metadata": {
    "colab": {
     "base_uri": "https://localhost:8080/"
    },
    "id": "aq5YkiBKq_C3",
    "outputId": "f31f6d36-1b93-43cb-9a10-4062ed8756b1"
   },
   "outputs": [
    {
     "data": {
      "text/plain": [
       "9"
      ]
     },
     "execution_count": 13,
     "metadata": {},
     "output_type": "execute_result"
    }
   ],
   "source": [
    "rdd1.count()  #Total Students from Lahore Campus are"
   ]
  },
  {
   "cell_type": "markdown",
   "metadata": {
    "id": "qVrNkQ5ItBOr"
   },
   "source": [
    "# Q2: Display the count of student from each Campus\n",
    "**Answer**"
   ]
  },
  {
   "cell_type": "code",
   "execution_count": 14,
   "metadata": {
    "id": "1o_Ypf31rLee"
   },
   "outputs": [],
   "source": [
    "# We have already found the count of Lahore Campus Students which are 9"
   ]
  },
  {
   "cell_type": "markdown",
   "metadata": {
    "id": "J3IcGqYzt_p-"
   },
   "source": [
    "# Students From Karachi Campus and Islamabad Campus"
   ]
  },
  {
   "cell_type": "code",
   "execution_count": 15,
   "metadata": {
    "id": "NKnSNabct6z2"
   },
   "outputs": [],
   "source": [
    "rdd2 = rdd.filter(lambda x:x[0]=='K') # The roll number of karachi studnts starts with K"
   ]
  },
  {
   "cell_type": "code",
   "execution_count": 16,
   "metadata": {
    "colab": {
     "base_uri": "https://localhost:8080/"
    },
    "id": "1wHRl6oRueEn",
    "outputId": "fea86242-9d48-469a-944d-ee5fd344fd01"
   },
   "outputs": [
    {
     "data": {
      "text/plain": [
       "['K21-1601 SE F',\n",
       " 'K18-1702 DS B',\n",
       " 'K21-1601 OS F',\n",
       " 'K21-1805 SE C',\n",
       " 'K21-1765 OS F',\n",
       " 'K21-2705 SE A']"
      ]
     },
     "execution_count": 16,
     "metadata": {},
     "output_type": "execute_result"
    }
   ],
   "source": [
    "rdd2.collect()"
   ]
  },
  {
   "cell_type": "code",
   "execution_count": 17,
   "metadata": {
    "colab": {
     "base_uri": "https://localhost:8080/"
    },
    "id": "BYxf-c-0uhXm",
    "outputId": "2a708dcf-22d7-4df1-bd41-848e4a8ac4ce"
   },
   "outputs": [
    {
     "data": {
      "text/plain": [
       "6"
      ]
     },
     "execution_count": 17,
     "metadata": {},
     "output_type": "execute_result"
    }
   ],
   "source": [
    "# Count Karachi Students\n",
    "rdd2.count()"
   ]
  },
  {
   "cell_type": "code",
   "execution_count": 18,
   "metadata": {
    "id": "GQ_660Mzumho"
   },
   "outputs": [],
   "source": [
    "rdd3 = rdd.filter(lambda x:x[0]=='I')"
   ]
  },
  {
   "cell_type": "code",
   "execution_count": 19,
   "metadata": {
    "colab": {
     "base_uri": "https://localhost:8080/"
    },
    "id": "Mfdw3sw4vElC",
    "outputId": "791fb72b-b526-4084-802f-a214a542ab3a"
   },
   "outputs": [
    {
     "data": {
      "text/plain": [
       "4"
      ]
     },
     "execution_count": 19,
     "metadata": {},
     "output_type": "execute_result"
    }
   ],
   "source": [
    "#  Count Islamabad Students\n",
    "rdd3.count()"
   ]
  },
  {
   "cell_type": "markdown",
   "metadata": {
    "id": "gBPikqkcvhqW"
   },
   "source": [
    "# For each course print the number of failures on Lahore campus"
   ]
  },
  {
   "cell_type": "code",
   "execution_count": 20,
   "metadata": {
    "id": "2YpuQx4DvHB0"
   },
   "outputs": [],
   "source": [
    "# Since the last character showing grade shows the fails status with F grade and previous two characters\n",
    "# show course"
   ]
  },
  {
   "cell_type": "code",
   "execution_count": 21,
   "metadata": {
    "colab": {
     "base_uri": "https://localhost:8080/"
    },
    "id": "GiAiVh9cwIod",
    "outputId": "ab413b83-e0c5-4d2e-fdaa-f39b565f6e8f"
   },
   "outputs": [
    {
     "data": {
      "text/plain": [
       "['L21-1601 SE F']"
      ]
     },
     "execution_count": 21,
     "metadata": {},
     "output_type": "execute_result"
    }
   ],
   "source": [
    "rdd4=rdd.filter(lambda x :(x[0]=='L') &(x[-1]=='F') & (x[9:11]=='SE'))\n",
    "rdd4.collect() # This shows Lahore Campus students failed in 'SE' subject"
   ]
  },
  {
   "cell_type": "code",
   "execution_count": 22,
   "metadata": {
    "id": "9SjlngTyyB1b"
   },
   "outputs": [],
   "source": [
    "rdd5=rdd.filter(lambda x :(x[0]=='L') &(x[-1]=='F') & (x[9:11]=='DS')) # Student of Lahore Campus failed in \"DS\" subject\n",
    "rdd6=rdd.filter(lambda x :(x[0]=='L') &(x[-1]=='F') & (x[9:11]=='OS')) # //   //    //    //     //   //    'OS'  //"
   ]
  },
  {
   "cell_type": "code",
   "execution_count": 23,
   "metadata": {
    "colab": {
     "base_uri": "https://localhost:8080/"
    },
    "id": "QKGUuJMuzzAj",
    "outputId": "b0897858-3c9b-4248-d0b4-6961721fd4bd"
   },
   "outputs": [
    {
     "data": {
      "text/plain": [
       "[]"
      ]
     },
     "execution_count": 23,
     "metadata": {},
     "output_type": "execute_result"
    }
   ],
   "source": [
    "rdd5.collect()\n",
    "# Since empty list shows that in Lahore campus no student failed of DS and OS subject"
   ]
  },
  {
   "cell_type": "code",
   "execution_count": 24,
   "metadata": {
    "colab": {
     "base_uri": "https://localhost:8080/"
    },
    "id": "jSwQ1X-Gz6dR",
    "outputId": "b54dc5fe-34f9-4ad6-ac1f-9f00f57dbd40"
   },
   "outputs": [
    {
     "data": {
      "text/plain": [
       "[]"
      ]
     },
     "execution_count": 24,
     "metadata": {},
     "output_type": "execute_result"
    }
   ],
   "source": [
    "rdd6.collect()"
   ]
  },
  {
   "cell_type": "markdown",
   "metadata": {
    "id": "faa5Qtjy0bm5"
   },
   "source": [
    "# For each course print the number of failures on Karachi campus"
   ]
  },
  {
   "cell_type": "code",
   "execution_count": 25,
   "metadata": {
    "id": "qX94CPbW0PzK"
   },
   "outputs": [],
   "source": [
    "rdd7=rdd.filter(lambda x :(x[0]=='K') &(x[-1]=='F') & (x[9:11]=='SE')) #Karachi campus students of 'SE' subject failed\n",
    "rdd8=rdd.filter(lambda x :(x[0]=='K') &(x[-1]=='F') & (x[9:11]=='DS')) # //  //  //  //  //    //  'DS'  //   //   //\n",
    "rdd9=rdd.filter(lambda x :(x[0]=='K') &(x[-1]=='F') & (x[9:11]=='OS')) # //  //  //  //  //  //   'OS'  //  //   //"
   ]
  },
  {
   "cell_type": "code",
   "execution_count": 26,
   "metadata": {
    "colab": {
     "base_uri": "https://localhost:8080/"
    },
    "id": "KGgT0pWN0xg3",
    "outputId": "436b40f4-b980-4bca-f150-c27eeed52c8a"
   },
   "outputs": [
    {
     "data": {
      "text/plain": [
       "['K21-1601 SE F']"
      ]
     },
     "execution_count": 26,
     "metadata": {},
     "output_type": "execute_result"
    }
   ],
   "source": [
    "rdd7.collect()"
   ]
  },
  {
   "cell_type": "code",
   "execution_count": 27,
   "metadata": {
    "colab": {
     "base_uri": "https://localhost:8080/"
    },
    "id": "kBLorGDV00PC",
    "outputId": "5dcf2f31-ae18-4615-e499-f47b936e01a3"
   },
   "outputs": [
    {
     "data": {
      "text/plain": [
       "[]"
      ]
     },
     "execution_count": 27,
     "metadata": {},
     "output_type": "execute_result"
    }
   ],
   "source": [
    "rdd8.collect()"
   ]
  },
  {
   "cell_type": "code",
   "execution_count": 28,
   "metadata": {
    "colab": {
     "base_uri": "https://localhost:8080/"
    },
    "id": "wPvjZbS81JcS",
    "outputId": "094c4871-0604-469e-cd29-51ed4304004c"
   },
   "outputs": [
    {
     "data": {
      "text/plain": [
       "['K21-1601 OS F', 'K21-1765 OS F']"
      ]
     },
     "execution_count": 28,
     "metadata": {},
     "output_type": "execute_result"
    }
   ],
   "source": [
    "rdd9.collect() #This shows that two 'OS' and one \"SE\" subject students failed in Karachi Campus"
   ]
  },
  {
   "cell_type": "code",
   "execution_count": 29,
   "metadata": {
    "id": "CFJkOZ4kk6Dv"
   },
   "outputs": [],
   "source": [
    "# The above programme  shows that in Karachi Campus two students of OS subject and one student of SE subject failed"
   ]
  },
  {
   "cell_type": "markdown",
   "metadata": {
    "id": "0NG2cktu18a3"
   },
   "source": [
    "# For each course print the number of failures on Islamabad campus"
   ]
  },
  {
   "cell_type": "code",
   "execution_count": 30,
   "metadata": {
    "id": "8vVZgjSz1N55"
   },
   "outputs": [],
   "source": [
    "rdd10=rdd.filter(lambda x :(x[0]=='I') &(x[-1]=='F') & (x[9:11]=='SE')) # Islamabad Campus students of 'SE' subject failed\n",
    "rdd11=rdd.filter(lambda x :(x[0]=='I') &(x[-1]=='F') & (x[9:11]=='DS')) # Islamabad Campus students of 'DS' subject failed\n",
    "rdd12=rdd.filter(lambda x :(x[0]=='I') &(x[-1]=='F') & (x[9:11]=='OS')) # Islamabad Campus students of 'OS' subject failed"
   ]
  },
  {
   "cell_type": "code",
   "execution_count": 31,
   "metadata": {
    "colab": {
     "base_uri": "https://localhost:8080/"
    },
    "id": "ncVRdI9Y2VR9",
    "outputId": "cc6c5c8a-6e3d-4c29-a2ae-766ae79427e3"
   },
   "outputs": [
    {
     "data": {
      "text/plain": [
       "['I19-1655 SE F']"
      ]
     },
     "execution_count": 31,
     "metadata": {},
     "output_type": "execute_result"
    }
   ],
   "source": [
    "rdd10.collect()"
   ]
  },
  {
   "cell_type": "code",
   "execution_count": 32,
   "metadata": {
    "colab": {
     "base_uri": "https://localhost:8080/"
    },
    "id": "m5ar6NY02Xse",
    "outputId": "84ba88e7-05fc-468e-e140-376ded98e908"
   },
   "outputs": [
    {
     "data": {
      "text/plain": [
       "[]"
      ]
     },
     "execution_count": 32,
     "metadata": {},
     "output_type": "execute_result"
    }
   ],
   "source": [
    "rdd11.collect()"
   ]
  },
  {
   "cell_type": "code",
   "execution_count": 33,
   "metadata": {
    "colab": {
     "base_uri": "https://localhost:8080/"
    },
    "id": "OACcaHqT2bdz",
    "outputId": "bd32d802-981b-4bdd-b3b7-e93e3b873bb6"
   },
   "outputs": [
    {
     "data": {
      "text/plain": [
       "['I21-1601 OS F', 'I21-3705 OS F']"
      ]
     },
     "execution_count": 33,
     "metadata": {},
     "output_type": "execute_result"
    }
   ],
   "source": [
    "rdd12.collect() # This shows that In Islamabad two students of OS and one SE subject failed"
   ]
  },
  {
   "cell_type": "markdown",
   "metadata": {
    "id": "Nw5ART6n30zJ"
   },
   "source": [
    "# Q3 Find the Minimum and Maximum grades in each subject.The ordering of grades is as follows A>B>C>D>E>F\n",
    "**ANSWER**"
   ]
  },
  {
   "cell_type": "markdown",
   "metadata": {
    "id": "BOBCRx31KX7g"
   },
   "source": [
    "students having maximum and minimum grades of SE subject"
   ]
  },
  {
   "cell_type": "code",
   "execution_count": 64,
   "metadata": {
    "id": "YBD_Dlh05JWv"
   },
   "outputs": [],
   "source": [
    "rdd13 = rdd.filter(lambda x:(x[-1]=='A') & (x[9:11]=='SE')) # Since maximum grade is A"
   ]
  },
  {
   "cell_type": "code",
   "execution_count": 65,
   "metadata": {
    "colab": {
     "base_uri": "https://localhost:8080/"
    },
    "id": "PhyJbUK75pj0",
    "outputId": "f1dfdd9e-8a4b-445c-c87c-4857e61b7adf"
   },
   "outputs": [
    {
     "data": {
      "text/plain": [
       "['I19-1705 SE A', 'K21-2705 SE A']"
      ]
     },
     "execution_count": 65,
     "metadata": {},
     "output_type": "execute_result"
    }
   ],
   "source": [
    "rdd13.collect() # Since two students of SE subject have maximum grade"
   ]
  },
  {
   "cell_type": "code",
   "execution_count": 67,
   "metadata": {
    "id": "t70rn3d02eUZ"
   },
   "outputs": [],
   "source": [
    "rdd14 = rdd.filter(lambda x:(x[-1]=='F') & (x[9:11]=='SE')) # Since minimum grade is F"
   ]
  },
  {
   "cell_type": "code",
   "execution_count": 68,
   "metadata": {
    "colab": {
     "base_uri": "https://localhost:8080/"
    },
    "id": "Qmtu9ern56q2",
    "outputId": "d5b5f2b2-23ae-47d3-9433-5be99e68e02e"
   },
   "outputs": [
    {
     "data": {
      "text/plain": [
       "['K21-1601 SE F', 'L21-1601 SE F', 'I19-1655 SE F']"
      ]
     },
     "execution_count": 68,
     "metadata": {},
     "output_type": "execute_result"
    }
   ],
   "source": [
    "rdd14.collect() # Shows three students of SE group are fail having F (minimum grade)"
   ]
  },
  {
   "cell_type": "markdown",
   "metadata": {
    "id": "VYKuAETcKjje"
   },
   "source": [
    "students having maximum and minimum grades of 'DS' subject"
   ]
  },
  {
   "cell_type": "code",
   "execution_count": 69,
   "metadata": {
    "id": "qf05A3G-Kt7A"
   },
   "outputs": [],
   "source": [
    "rdd15 = rdd.filter(lambda x:(x[-1]=='A') & (x[9:11]=='DS')) # Since maximum grade is A"
   ]
  },
  {
   "cell_type": "code",
   "execution_count": 73,
   "metadata": {
    "colab": {
     "base_uri": "https://localhost:8080/"
    },
    "id": "bD2w6R7MKzBx",
    "outputId": "bb0749a2-d2a3-40bb-ec1a-d4348acec468"
   },
   "outputs": [
    {
     "data": {
      "text/plain": [
       "[]"
      ]
     },
     "execution_count": 73,
     "metadata": {},
     "output_type": "execute_result"
    }
   ],
   "source": [
    "rdd15.collect() # Shows no any student of DS subject have maximum grade"
   ]
  },
  {
   "cell_type": "code",
   "execution_count": 71,
   "metadata": {
    "id": "WXMstAUoKypV"
   },
   "outputs": [],
   "source": [
    "rdd16 = rdd.filter(lambda x:(x[-1]=='F') & (x[9:11]=='DS')) # Since minimum grade is F"
   ]
  },
  {
   "cell_type": "code",
   "execution_count": 82,
   "metadata": {
    "colab": {
     "base_uri": "https://localhost:8080/"
    },
    "id": "fR8GBuWxKyY-",
    "outputId": "d3e612a5-6043-4ec3-dd99-afc1a209a81d"
   },
   "outputs": [
    {
     "data": {
      "text/plain": [
       "[]"
      ]
     },
     "execution_count": 82,
     "metadata": {},
     "output_type": "execute_result"
    }
   ],
   "source": [
    "rdd16.collect() # no any student of SE group is fail having F (minimum grade)"
   ]
  },
  {
   "cell_type": "markdown",
   "metadata": {
    "id": "CrMowQoaMsD-"
   },
   "source": [
    "Students having maximum and minimum grades of 'OS' subject"
   ]
  },
  {
   "cell_type": "code",
   "execution_count": 83,
   "metadata": {
    "id": "hNgZhDnqKyF9"
   },
   "outputs": [],
   "source": [
    "rdd17 = rdd.filter(lambda x:(x[-1]=='A') & (x[9:11]=='OS')) # Since minimum grade is F"
   ]
  },
  {
   "cell_type": "code",
   "execution_count": 84,
   "metadata": {
    "colab": {
     "base_uri": "https://localhost:8080/"
    },
    "id": "odRaeypGMBql",
    "outputId": "91559c2d-5017-4c2c-ab84-c221bf1f5028"
   },
   "outputs": [
    {
     "data": {
      "text/plain": [
       "['L21-1705 OS A']"
      ]
     },
     "execution_count": 84,
     "metadata": {},
     "output_type": "execute_result"
    }
   ],
   "source": [
    "rdd17.collect() # Shows one student of OS subject have maximum A grade"
   ]
  },
  {
   "cell_type": "code",
   "execution_count": 85,
   "metadata": {
    "id": "Ea6ZG8cpMDxq"
   },
   "outputs": [],
   "source": [
    "\n",
    "rdd18 = rdd.filter(lambda x:(x[-1]=='F') & (x[9:11]=='OS')) # Since minimum grade is F"
   ]
  },
  {
   "cell_type": "code",
   "execution_count": 86,
   "metadata": {
    "colab": {
     "base_uri": "https://localhost:8080/"
    },
    "id": "U092A9ikMVkB",
    "outputId": "79c3298c-f620-48f2-fef4-8ec0b47a7fdd"
   },
   "outputs": [
    {
     "data": {
      "text/plain": [
       "['I21-1601 OS F', 'K21-1601 OS F', 'K21-1765 OS F', 'I21-3705 OS F']"
      ]
     },
     "execution_count": 86,
     "metadata": {},
     "output_type": "execute_result"
    }
   ],
   "source": [
    "rdd18.collect() # This shows Four students of 'OS' subject are fail having F grade"
   ]
  },
  {
   "cell_type": "code",
   "execution_count": 86,
   "metadata": {
    "id": "jolwCytWMYzD"
   },
   "outputs": [],
   "source": []
  }
 ],
 "metadata": {
  "colab": {
   "provenance": []
  },
  "kernelspec": {
   "display_name": "Python 3 (ipykernel)",
   "language": "python",
   "name": "python3"
  },
  "language_info": {
   "codemirror_mode": {
    "name": "ipython",
    "version": 3
   },
   "file_extension": ".py",
   "mimetype": "text/x-python",
   "name": "python",
   "nbconvert_exporter": "python",
   "pygments_lexer": "ipython3",
   "version": "3.11.5"
  }
 },
 "nbformat": 4,
 "nbformat_minor": 1
}
